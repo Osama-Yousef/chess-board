{
 "cells": [
  {
   "cell_type": "code",
   "execution_count": 1,
   "metadata": {},
   "outputs": [],
   "source": [
    "import numpy as np\n",
    "import matplotlib.pyplot as plt\n",
    "\n",
    "class ChessBoard:\n",
    "    ''' we built this class to create an 8 by 8 chess board'''\n",
    "    white= [1,1,1] ## rgb : red : green : blue\n",
    "    blue = [0,0,1]\n",
    "    red  = [1,0,0]\n",
    "    red_x=0 ## initial value just to declare it\n",
    "    red_y=0 ## initial value just to declare it\n",
    "    blue_x=0 ## initial value just to declare it\n",
    "    blue_y=0 ## initial value just to declare it\n",
    "    def __init__(self):\n",
    "        # Create grids for the boarddd\n",
    "        self.grid = np.zeros([8,8,3])\n",
    "        for i in range(8):\n",
    "            for j in range(8):\n",
    "                if (i%2==0 and j%2==0) or (i%2==1 and j%2==1):\n",
    "                    self.grid[i,j] = ChessBoard.white\n",
    "    \n",
    "           \n",
    "    def render(self):\n",
    "        ''' to display the chess board'''\n",
    "        plt.imshow(self.grid)\n",
    "    \n",
    "    def add_red(self,red_x,red_y):\n",
    "        self.grid[red_x,red_y]=ChessBoard.red\n",
    "        red_x=self.red_x\n",
    "        red_y=self.red_y\n",
    "    def add_blue(self,blue_x,blue_y):\n",
    "        self.grid[blue_x,blue_y]=ChessBoard.blue\n",
    "        blue_x=self.blue_x\n",
    "        blue_y=self.blue_y\n",
    "    \n",
    "    def is_under_attack(self):\n",
    "        ''' This method is to check if a given coordinates of a blue and red queen will attack each other'''\n",
    "        red_x=self.red_x\n",
    "        red_y=self.red_y\n",
    "        blue_x=self.blue_x\n",
    "        blue_y=self.blue_y\n",
    "        \n",
    "        check = False\n",
    "\n",
    "        \n",
    "        if abs(red_x - red_y) == abs(blue_x - blue_y): ## here to check if they are diagonal\n",
    "            check = True\n",
    "\n",
    "        elif red_x == blue_x:\n",
    "            check = True\n",
    "\n",
    "        elif red_y == blue_y:\n",
    "            check = True\n",
    "        else:\n",
    "            check = False\n",
    "        \n",
    "\n",
    "        return check"
   ]
  },
  {
   "cell_type": "code",
   "execution_count": 6,
   "metadata": {},
   "outputs": [
    {
     "name": "stdout",
     "output_type": "stream",
     "text": [
      "True\n",
      "##  Pass ##\n"
     ]
    },
    {
     "data": {
      "image/png": "[encoded data removed]",
      "text/plain": [
       "<Figure size 432x288 with 1 Axes>"
      ]
     },
     "metadata": {
      "needs_background": "light"
     },
     "output_type": "display_data"
    }
   ],
   "source": [
    "## check for  vertical\n",
    "\n",
    "board1 = ChessBoard()\n",
    "board1.add_red(1,7)\n",
    "board1.add_blue(6,7)\n",
    "board1.render()\n",
    "print(board1.is_under_attack())\n",
    "assert board1.is_under_attack() == True\n",
    "print('##  Pass ##')"
   ]
  },
  {
   "cell_type": "code",
   "execution_count": 3,
   "metadata": {},
   "outputs": [
    {
     "name": "stdout",
     "output_type": "stream",
     "text": [
      "True\n",
      "## Pass  ##\n"
     ]
    },
    {
     "data": {
      "image/png": "[encoded data removed]",
      "text/plain": [
       "<Figure size 432x288 with 1 Axes>"
      ]
     },
     "metadata": {
      "needs_background": "light"
     },
     "output_type": "display_data"
    }
   ],
   "source": [
    "## check for horizontal\n",
    "\n",
    "board2 = ChessBoard()\n",
    "board2.add_red(2,2)\n",
    "board2.add_blue(2,6)\n",
    "board2.render()\n",
    "print(board2.is_under_attack())\n",
    "assert board2.is_under_attack() == True\n",
    "print('## Pass  ##')\n",
    "\n"
   ]
  },
  {
   "cell_type": "code",
   "execution_count": 4,
   "metadata": {},
   "outputs": [
    {
     "name": "stdout",
     "output_type": "stream",
     "text": [
      "True\n",
      "## Pass ##\n"
     ]
    },
    {
     "data": {
      "image/png": "[encoded data removed]",
      "text/plain": [
       "<Figure size 432x288 with 1 Axes>"
      ]
     },
     "metadata": {
      "needs_background": "light"
     },
     "output_type": "display_data"
    }
   ],
   "source": [
    "## check for diagonal\n",
    "\n",
    "board3 = ChessBoard()\n",
    "board3.add_red(0,7)\n",
    "board3.add_blue(7,0)\n",
    "board3.render()\n",
    "print(board3.is_under_attack())\n",
    "assert board3.is_under_attack() == True\n",
    "print('## Pass ##')"
   ]
  },
  {
   "cell_type": "code",
   "execution_count": 5,
   "metadata": {},
   "outputs": [
    {
     "name": "stdout",
     "output_type": "stream",
     "text": [
      "True\n",
      "## Pass ##\n"
     ]
    },
    {
     "data": {
      "image/png": "[encoded data removed]",
      "text/plain": [
       "<Figure size 432x288 with 1 Axes>"
      ]
     },
     "metadata": {
      "needs_background": "light"
     },
     "output_type": "display_data"
    }
   ],
   "source": [
    "#check if there is no attack\n",
    "\n",
    "\n",
    "board4 = ChessBoard()\n",
    "board4.add_red(2,3)\n",
    "board4.add_blue(3,6)\n",
    "board4.render()\n",
    "print(board4.is_under_attack())\n",
    "# assert board4.is_under_attack() == False\n",
    "print('## Pass ##')"
   ]
  },
  {
   "cell_type": "code",
   "execution_count": null,
   "metadata": {},
   "outputs": [],
   "source": []
  }
 ],
 "metadata": {
  "kernelspec": {
   "display_name": "Python 3",
   "language": "python",
   "name": "python3"
  },
  "language_info": {
   "codemirror_mode": {
    "name": "ipython",
    "version": 3
   },
   "file_extension": ".py",
   "mimetype": "text/x-python",
   "name": "python",
   "nbconvert_exporter": "python",
   "pygments_lexer": "ipython3",
   "version": "3.8.5"
  }
 },
 "nbformat": 4,
 "nbformat_minor": 4
}
